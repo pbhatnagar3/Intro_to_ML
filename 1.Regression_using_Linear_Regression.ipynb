{
 "cells": [
  {
   "cell_type": "markdown",
   "metadata": {},
   "source": [
    "# Fundamentals of Machine Learning: Linear Regression"
   ]
  },
  {
   "cell_type": "code",
   "execution_count": 1,
   "metadata": {
    "collapsed": false
   },
   "outputs": [],
   "source": [
    "%matplotlib inline\n",
    "import matplotlib.pyplot as plt\n",
    "import random\n",
    "import numpy as np"
   ]
  },
  {
   "cell_type": "markdown",
   "metadata": {},
   "source": [
    "Continuing from where we left off, now, let's make the problem a bit more realistic, assume that the training data contains 50 points instead of 2 in a way that they don't all fall on the same line. How would one go about finding the best fit line. One could fit the line among two points and leave the rest of the points point out ( calling the left-out point as outliers ) or just account for all the data points and just find the line that minimizes the distance among the points and itself. This would be a choice for the ML expert to decide which approach is better and this would depend on the nature of the dataset and the problem being tackled. But usually, it is best to consider all the datapoints while fitting the model and therefore, try to achieve a global optimum"
   ]
  },
  {
   "cell_type": "markdown",
   "metadata": {},
   "source": [
    "## Simple Linear Regression"
   ]
  },
  {
   "cell_type": "markdown",
   "metadata": {},
   "source": [
    "\n",
    "We will start with the most familiar linear regression, a straight-line fit to data. A straight-line fit is a model of the form $$\n",
    "y = mx + b\n",
    "$$ where $a$ is commonly known as the slope, and $b$ is commonly known as the intercept.\n",
    "\n",
    "Consider the following data, which is scattered about a line with a slope of 2 and an intercept of -5:"
   ]
  },
  {
   "cell_type": "code",
   "execution_count": 2,
   "metadata": {
    "collapsed": false
   },
   "outputs": [
    {
     "name": "stdout",
     "output_type": "stream",
     "text": [
      "[ 2.74751302  9.70241361  3.50744946  2.30149311  2.6537469   0.75211129\n",
      "  1.82410163  0.42689999  3.37106894  8.10119417  5.58642424  2.91714295\n",
      "  9.33372061  9.32130469  0.72200167  6.78040772  9.06045567  8.50578676\n",
      "  8.63158971  3.4762237   3.4853538   8.40324124  4.44627382  7.97488561\n",
      "  3.79145376  9.88984453  4.7039625   7.82396601  6.81467059  4.49757956\n",
      "  7.22691911  0.46166723  6.95118135  4.44038942  3.40881407  5.21332446\n",
      "  7.33701293  6.18955242  6.92135265  3.69610273  8.57342505  8.50072667\n",
      "  0.47534151  6.70563789  1.30791875  0.5355827   0.12753243  8.12272844\n",
      "  3.98345208  9.35277762]\n"
     ]
    },
    {
     "data": {
      "image/png": "[encoded data removed]",
      "text/plain": [
       "<matplotlib.figure.Figure at 0x7fa6da9628d0>"
      ]
     },
     "metadata": {},
     "output_type": "display_data"
    }
   ],
   "source": [
    "m = 0.2\n",
    "b = -5\n",
    "num_data_points = 50\n",
    "\n",
    "rng = np.random.RandomState()\n",
    "x = 10 * rng.rand(num_data_points)\n",
    "y = m * x + b + rng.randn(num_data_points)\n",
    "plt.scatter(x, y);\n",
    "print(x)"
   ]
  },
  {
   "cell_type": "markdown",
   "metadata": {},
   "source": [
    "We can use Scikit-Learn's LinearRegression estimator to fit this data and construct the best-fit line:"
   ]
  },
  {
   "cell_type": "code",
   "execution_count": 3,
   "metadata": {
    "collapsed": false
   },
   "outputs": [
    {
     "data": {
      "image/png": "[encoded data removed]",
      "text/plain": [
       "<matplotlib.figure.Figure at 0x7fa6d84e1a58>"
      ]
     },
     "metadata": {},
     "output_type": "display_data"
    }
   ],
   "source": [
    "from sklearn.linear_model import LinearRegression\n",
    "model = LinearRegression()\n",
    "\n",
    "model.fit(x[:, np.newaxis], y)\n",
    "\n",
    "xfit = np.linspace(0, 10, 1000)\n",
    "yfit = model.predict(xfit[:, np.newaxis])\n",
    "\n",
    "plt.scatter(x, y)\n",
    "plt.plot(xfit, yfit);"
   ]
  },
  {
   "cell_type": "markdown",
   "metadata": {},
   "source": [
    "The slope and intercept of the data are contained in the model's fit parameters, which in Scikit-Learn are always marked by a trailing underscore. Here the relevant parameters are coef_ and intercept_:"
   ]
  },
  {
   "cell_type": "code",
   "execution_count": 4,
   "metadata": {
    "collapsed": false
   },
   "outputs": [
    {
     "name": "stdout",
     "output_type": "stream",
     "text": [
      "Model slope:     0.145295491165\n",
      "Model intercept: -4.7892671708\n"
     ]
    }
   ],
   "source": [
    "print(\"Model slope:    \", model.coef_[0])\n",
    "print(\"Model intercept:\", model.intercept_)"
   ]
  },
  {
   "cell_type": "markdown",
   "metadata": {},
   "source": [
    "We see that the results are very close to the inputs, as we might hope.\n",
    "\n",
    "The LinearRegression estimator is much more capable than this, however—in addition to simple straight-line fits, it can also handle multidimensional linear models of the form $$\n",
    "y = a_0 + a_1 x_1 + a_2 x_2 + \\cdots\n",
    "$$ where there are multiple $x$ values. Geometrically, this is akin to fitting a plane to points in three dimensions, or fitting a hyper-plane to points in higher dimensions.\n",
    "\n",
    "The multidimensional nature of such regressions makes them more difficult to visualize, but we can see one of these fits in action by building some example data, using NumPy's matrix multiplication operator. In the following example, we generate the data where $$\n",
    "y = a_0 + a_1 x_1 + a_2 x_2 + a_3 x_3\n",
    "$$\n",
    "\n",
    "where $$\n",
    "[a_0, a_1, a_2, a_3] = [0.5, -1.5, -2, 1] \n",
    "$$\n",
    "\n",
    "\n",
    "\n"
   ]
  },
  {
   "cell_type": "code",
   "execution_count": 5,
   "metadata": {
    "collapsed": false
   },
   "outputs": [
    {
     "name": "stdout",
     "output_type": "stream",
     "text": [
      "0.5\n",
      "[ 1.5 -2.   1. ]\n"
     ]
    }
   ],
   "source": [
    "rng = np.random.RandomState()\n",
    "X = 10 * rng.rand(100, 3)\n",
    "y = 0.5 + np.dot(X, [1.5, -2., 1.])\n",
    "\n",
    "model.fit(X, y)\n",
    "print(model.intercept_)\n",
    "print(model.coef_)"
   ]
  },
  {
   "cell_type": "markdown",
   "metadata": {},
   "source": [
    "Here the $y$ data is constructed from three random $x$ values, and the linear regression recovers the coefficients used to construct the data.\n",
    "\n",
    "In this way, we can use the single LinearRegression estimator to fit lines, planes, or hyperplanes to our data. It still appears that this approach would be limited to strictly linear relationships between variables, but it turns out we can relax this as well. One can refer to the documentation of sklearn for more information"
   ]
  },
  {
   "cell_type": "markdown",
   "metadata": {},
   "source": [
    "## Further notes"
   ]
  },
  {
   "cell_type": "markdown",
   "metadata": {},
   "source": [
    "So far we have assumed that we only have considered one independent variable, what if we had 2 or more independent variables. In that case our 2D plot would now become a 3D plot and we would be fitting a plane and not a line through the training data. AThis is called fitting a hyperplane ( fancy way of saying we are fitting the line equivalent in the higher dimentional planes )\n",
    "\n",
    "And regarding the assumption that we made about the relationship between the independent and the dependent variables. We should note that this was the ML experts choice and one could use different models and fit parabolas and other geometries if they think that the shape fits the data better. And this is where the art in ML comes in and it often requires repeated experimentation to arrive at the best shape. Finally there are different classes of algorithms called SVMs that can be used for these purposes"
   ]
  },
  {
   "cell_type": "code",
   "execution_count": null,
   "metadata": {
    "collapsed": true
   },
   "outputs": [],
   "source": []
  }
 ],
 "metadata": {
  "kernelspec": {
   "display_name": "Python 3",
   "language": "python",
   "name": "python3"
  },
  "language_info": {
   "codemirror_mode": {
    "name": "ipython",
    "version": 3
   },
   "file_extension": ".py",
   "mimetype": "text/x-python",
   "name": "python",
   "nbconvert_exporter": "python",
   "pygments_lexer": "ipython3",
   "version": "3.5.4"
  }
 },
 "nbformat": 4,
 "nbformat_minor": 2
}
