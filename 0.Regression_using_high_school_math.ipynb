{
 "cells": [
  {
   "cell_type": "markdown",
   "metadata": {},
   "source": [
    "# Fundamentals of Machine Learning"
   ]
  },
  {
   "cell_type": "markdown",
   "metadata": {},
   "source": [
    "Lets try and predict the price of chocolate depending on the weight of the chocolate based on the data that you gathered by visiting our neighborhood chocolate factory in SF. During your recent visit, you found that 10 lb of chocolate is 100 and the price of 1 lb of chocolate is 15.  "
   ]
  },
  {
   "cell_type": "code",
   "execution_count": 1,
   "metadata": {
    "collapsed": true
   },
   "outputs": [],
   "source": [
    "input_data = [(10, 100), (1, 15)]\n"
   ]
  },
  {
   "cell_type": "markdown",
   "metadata": {},
   "source": [
    "Now let's identify the dependent and the independent variables. In this case, we would want to have the dependent variable as the price of the chocolate ( the thing that we are trying to predict ) and the independent one would be weight of the chocolate ( the one that would be given to us by the user(s). )"
   ]
  },
  {
   "cell_type": "code",
   "execution_count": 2,
   "metadata": {
    "collapsed": true
   },
   "outputs": [],
   "source": [
    "independent_variable_values = [10, 1]\n",
    "dependent_variable_values = [100, 15]"
   ]
  },
  {
   "cell_type": "markdown",
   "metadata": {},
   "source": [
    "After this is established, you could draw a 2D plot with the dependent variable on the Y-axis and the independent one on the X - axis and plot the two data points ( and this point, you could state that you got this data from conducting surveys aka training data ). Ask the audience to fit a line through the data points. One would notice that the line would indeed pass through the origin and that makes intuitive sense since one would hope that the trained ML model would predict that if you get 0 lb of chocolate, you would be paying $0."
   ]
  },
  {
   "cell_type": "code",
   "execution_count": 3,
   "metadata": {
    "collapsed": false
   },
   "outputs": [],
   "source": [
    "%matplotlib inline\n",
    "\n",
    "import matplotlib\n",
    "import numpy as np\n",
    "import matplotlib.pyplot as plt"
   ]
  },
  {
   "cell_type": "code",
   "execution_count": 4,
   "metadata": {
    "collapsed": false
   },
   "outputs": [
    {
     "data": {
      "image/png": "[encoded data removed]",
      "text/plain": [
       "<matplotlib.figure.Figure at 0x7f663e685630>"
      ]
     },
     "metadata": {},
     "output_type": "display_data"
    }
   ],
   "source": [
    "x = np.linspace(0, 3*np.pi, 500)\n",
    "plt.plot(independent_variable_values, dependent_variable_values, '*')\n",
    "plt.title('Steve price vs weight plot of our simple dataset')\n",
    "plt.xlabel('weight in pounds (lbs)')\n",
    "plt.ylabel('Cost in USD ($)')\n",
    "plt.show()"
   ]
  },
  {
   "cell_type": "markdown",
   "metadata": {},
   "source": [
    "Now let's get to the math concepts, the line that the audience drew is mathematically represented as ( parametrized as ) 2 parameters: \n",
    "\n",
    "- the slope ( you could give an example of a strenuous hike for this )\n",
    "\n",
    "- the intercept ( where does the line intersect the y-axis when the x-axis is 0. \n",
    "\n",
    "And the whole purpose of the Machine Learning algorithm is to figure out these parameters. "
   ]
  },
  {
   "cell_type": "markdown",
   "metadata": {},
   "source": [
    "In this case, if the points are $(x1, y1)$ and $(x2, y2)$ and assuming that the equation of the line is $$y = mx + b$$ you could calculate the slope, m, as $$m=\\frac{y2 - y1}{x2 - x1}$$ and intercept, b, as $$b = y - mx$$"
   ]
  },
  {
   "cell_type": "code",
   "execution_count": 5,
   "metadata": {
    "collapsed": false
   },
   "outputs": [
    {
     "name": "stdout",
     "output_type": "stream",
     "text": [
      "slope of the line is 9.444444444444445\n"
     ]
    }
   ],
   "source": [
    "# Calculating the slope\n",
    "numerator = (dependent_variable_values[1] - dependent_variable_values[0])\n",
    "denominator = (independent_variable_values[1] - independent_variable_values[0])\n",
    "m = slope = numerator / denominator\n",
    "print(\"slope of the line is {0}\".format(m))"
   ]
  },
  {
   "cell_type": "code",
   "execution_count": 6,
   "metadata": {
    "collapsed": false
   },
   "outputs": [
    {
     "name": "stdout",
     "output_type": "stream",
     "text": [
      "the y intercept is 5.555555555555557\n"
     ]
    }
   ],
   "source": [
    "# Calculating the intercept\n",
    "b = dependent_variable_values[0] - m * independent_variable_values[0]\n",
    "print(\"the y intercept is {0}\".format(b))"
   ]
  },
  {
   "cell_type": "markdown",
   "metadata": {},
   "source": [
    "No matter how complicated they are; at the end of the day, an ML algorithm tasked with predicting a value of a dependent variable based on an independent variable can be thought of as fitting a shape ( in this example a line ) through the data points. \n",
    "\n",
    "Remember that ML is just a fancy way of saying let's just project our real-life data into math coordinates and try finding the best fit hyper-planes ( lines in higher dimentions ). "
   ]
  },
  {
   "cell_type": "markdown",
   "metadata": {},
   "source": [
    "Now, given that we get new data, like you decide to use your ML predicter to calculate the price of chocolate given that the weight of the chocolate is 22lb, you would just have to plug the values of m, x and b to find the value of y. "
   ]
  },
  {
   "cell_type": "code",
   "execution_count": 7,
   "metadata": {
    "collapsed": false
   },
   "outputs": [
    {
     "name": "stdout",
     "output_type": "stream",
     "text": [
      "According to our model, the predicted price of 2200 lb of chocolate is $20783.333333333332\n"
     ]
    }
   ],
   "source": [
    "new_chocolate_weight = 2200\n",
    "predicted_price = m * new_chocolate_weight + b\n",
    "print(\"According to our model, the predicted price of {0} lb of chocolate is ${1}\".format(new_chocolate_weight, predicted_price))\n",
    "\n"
   ]
  },
  {
   "cell_type": "markdown",
   "metadata": {},
   "source": [
    "Notice that we did not need the training data once we had learned the parameters. And this point you could say that the class of ML algorithms that don't need the training data to be around after the training process is done are called parametric models ( as opposed to non-parametric models ) and the advantage of using them is that you could train these on large amounts of data but at the end of the day, when using the ML model in your app, you would only need two variables, m, b to represent this model to make predictions."
   ]
  },
  {
   "cell_type": "code",
   "execution_count": null,
   "metadata": {
    "collapsed": true
   },
   "outputs": [],
   "source": []
  }
 ],
 "metadata": {
  "kernelspec": {
   "display_name": "Python 3",
   "language": "python",
   "name": "python3"
  },
  "language_info": {
   "codemirror_mode": {
    "name": "ipython",
    "version": 3
   },
   "file_extension": ".py",
   "mimetype": "text/x-python",
   "name": "python",
   "nbconvert_exporter": "python",
   "pygments_lexer": "ipython3",
   "version": "3.5.4"
  }
 },
 "nbformat": 4,
 "nbformat_minor": 2
}
